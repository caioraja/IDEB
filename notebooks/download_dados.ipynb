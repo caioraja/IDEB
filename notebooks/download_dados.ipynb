{
 "cells": [
  {
   "cell_type": "code",
   "execution_count": 1,
   "id": "915b10a4",
   "metadata": {},
   "outputs": [],
   "source": [
    "import urllib\n",
    "import requests\n",
    "from pathlib import Path\n",
    "from bs4 import BeautifulSoup\n"
   ]
  },
  {
   "cell_type": "code",
   "execution_count": 2,
   "id": "88cdf478",
   "metadata": {},
   "outputs": [],
   "source": [
    "def obtem_dados_censo(url: str) -> Path:\n",
    "    \"\"\"\n",
    "    Realiza o download dos dados do censo escolar\n",
    "\n",
    "    :param url: endereço do site do inep com os dados do censo\n",
    "    :return: caminho para os dados de saída\n",
    "    \"\"\"\n",
    "    html = urllib.request.urlopen(url).read()\n",
    "    soup = BeautifulSoup(html, features=\"lxml\")\n",
    "\n",
    "    links = {\n",
    "        tag[\"href\"].split(\"_\")[-1]: tag[\"href\"]\n",
    "        for tag in soup.find_all(\"a\", {\"class\": \"external-link\"})\n",
    "    }\n",
    "\n",
    "    caminho_saida = Path(\"../dados/censo_escolar\")\n",
    "    caminho_saida.mkdir(parents=True, exist_ok=True)\n",
    "\n",
    "    for dado in links:\n",
    "        r = requests.get(links[dado], stream=True)\n",
    "        with open(caminho_saida / dado, \"wb\") as arq:\n",
    "            arq.write(r.content)\n"
   ]
  }
 ],
 "metadata": {
  "kernelspec": {
   "display_name": "Python 3 (ipykernel)",
   "language": "python",
   "name": "python3"
  },
  "language_info": {
   "codemirror_mode": {
    "name": "ipython",
    "version": 3
   },
   "file_extension": ".py",
   "mimetype": "text/x-python",
   "name": "python",
   "nbconvert_exporter": "python",
   "pygments_lexer": "ipython3",
   "version": "3.10.9"
  },
  "vscode": {
   "interpreter": {
    "hash": "65ca81e8fad3f8c216ee90a03a98665577a03fed3fcbaf65c538828cec37a742"
   }
  }
 },
 "nbformat": 4,
 "nbformat_minor": 5
}
