{
 "cells": [
  {
   "cell_type": "code",
   "execution_count": 1,
   "id": "915b10a4",
   "metadata": {},
   "outputs": [],
   "source": [
    "import urllib\n",
    "import requests\n",
    "from pathlib import Path\n",
    "from bs4 import BeautifulSoup\n",
    "import os"
   ]
  },
  {
   "cell_type": "code",
   "execution_count": 2,
   "id": "88cdf478",
   "metadata": {},
   "outputs": [],
   "source": [
    "def obtem_dados_censo(url: str) -> Path:\n",
    "    \"\"\"\n",
    "    Realiza o download dos dados do censo escolar\n",
    "\n",
    "    :param url: endereço do site do inep com os dados do censo\n",
    "    :return: caminho para os dados de saída\n",
    "    \"\"\"\n",
    "    html = urllib.request.urlopen(url).read()\n",
    "    soup = BeautifulSoup(html, features=\"lxml\")\n",
    "\n",
    "    links = {\n",
    "        tag[\"href\"].split(\"_\")[-1]: tag[\"href\"]\n",
    "        for tag in soup.find_all(\"a\", {\"class\": \"external-link\"})\n",
    "    }\n",
    "\n",
    "    caminho_saida = Path(\"../dados/censo_escolar\")\n",
    "    caminho_saida.mkdir(parents=True, exist_ok=True)\n",
    "\n",
    "    for dado in links:\n",
    "        r = requests.get(links[dado], stream=True)\n",
    "        with open(caminho_saida / dado, \"wb\") as arq:\n",
    "            arq.write(r.content)\n"
   ]
  },
  {
   "cell_type": "code",
   "execution_count": 2,
   "id": "b25cdfbf",
   "metadata": {},
   "outputs": [],
   "source": [
    "os.chdir(\"..\")"
   ]
  },
  {
   "cell_type": "code",
   "execution_count": 3,
   "id": "e2441926",
   "metadata": {},
   "outputs": [],
   "source": [
    "%load_ext autoreload\n",
    "%autoreload 2\n",
    "import src.aquisicao.inep.base_inep as etl_base_inep"
   ]
  },
  {
   "cell_type": "code",
   "execution_count": 11,
   "id": "848d998a",
   "metadata": {},
   "outputs": [],
   "source": [
    "inep_etl = etl_base_inep.BaseINEPETL(\"dados/censo_escolar\", \"saida/aquisicao\", \"censo-escolar\")"
   ]
  },
  {
   "cell_type": "code",
   "execution_count": 13,
   "id": "d8f1bd3d-2d82-4d11-8fbc-b5d4e24a5571",
   "metadata": {},
   "outputs": [
    {
     "data": {
      "text/plain": [
       "{'2022.zip': 'https://download.inep.gov.br/dados_abertos/microdados_censo_escolar_2022.zip',\n",
       " '2021.zip': 'https://download.inep.gov.br/dados_abertos/microdados_censo_escolar_2021.zip',\n",
       " '2020.zip': 'https://download.inep.gov.br/dados_abertos/microdados_censo_escolar_2020.zip',\n",
       " '2019.zip': 'https://download.inep.gov.br/dados_abertos/microdados_censo_escolar_2019.zip',\n",
       " '2018.zip': 'https://download.inep.gov.br/dados_abertos/microdados_censo_escolar_2018.zip',\n",
       " '2017.zip': 'https://download.inep.gov.br/dados_abertos/microdados_censo_escolar_2017.zip',\n",
       " '2016.zip': 'https://download.inep.gov.br/dados_abertos/microdados_censo_escolar_2016.zip',\n",
       " '2015.zip': 'https://download.inep.gov.br/dados_abertos/microdados_censo_escolar_2015.zip',\n",
       " '2014.zip': 'https://download.inep.gov.br/dados_abertos/microdados_censo_escolar_2014.zip',\n",
       " '2013.zip': 'https://download.inep.gov.br/dados_abertos/microdados_censo_escolar_2013.zip',\n",
       " '2012.zip': 'https://download.inep.gov.br/dados_abertos/microdados_censo_escolar_2012.zip',\n",
       " '2011.zip': 'https://download.inep.gov.br/dados_abertos/microdados_censo_escolar_2011.zip',\n",
       " '2010.zip': 'https://download.inep.gov.br/dados_abertos/microdados_censo_escolar_2010.zip',\n",
       " '2009.zip': 'https://download.inep.gov.br/dados_abertos/microdados_censo_escolar_2009.zip',\n",
       " '2008.zip': 'https://download.inep.gov.br/dados_abertos/microdados_censo_escolar_2008.zip',\n",
       " '2007.zip': 'https://download.inep.gov.br/dados_abertos/microdados_censo_escolar_2007.zip',\n",
       " '2006.zip': 'https://download.inep.gov.br/dados_abertos/microdados_censo_escolar_2006.zip',\n",
       " '2005.zip': 'https://download.inep.gov.br/dados_abertos/microdados_censo_escolar_2005.zip',\n",
       " '2004.zip': 'https://download.inep.gov.br/dados_abertos/microdados_censo_escolar_2004.zip',\n",
       " '2003.zip': 'https://download.inep.gov.br/dados_abertos/microdados_censo_escolar_2003.zip',\n",
       " '2002.zip': 'https://download.inep.gov.br/dados_abertos/microdados_censo_escolar_2002.zip',\n",
       " '2001.zip': 'https://download.inep.gov.br/dados_abertos/microdados_censo_escolar_2001.zip',\n",
       " '2000.zip': 'https://download.inep.gov.br/dados_abertos/microdados_censo_escolar_2000.zip',\n",
       " '1999.zip': 'https://download.inep.gov.br/dados_abertos/microdados_censo_escolar_1999.zip',\n",
       " '1998.zip': 'https://download.inep.gov.br/dados_abertos/microdados_censo_escolar_1998.zip',\n",
       " '1997.zip': 'https://download.inep.gov.br/dados_abertos/microdados_censo_escolar_1997.zip',\n",
       " '1996.zip': 'https://download.inep.gov.br/dados_abertos/microdados_censo_escolar_1996.zip',\n",
       " '1995.zip': 'https://download.inep.gov.br/dados_abertos/microdados_censo_escolar_1995.zip'}"
      ]
     },
     "execution_count": 13,
     "metadata": {},
     "output_type": "execute_result"
    }
   ],
   "source": [
    "inep_etl.le_pagina_inep()"
   ]
  },
  {
   "cell_type": "code",
   "execution_count": 21,
   "id": "d94a25d7-d9a3-46ac-9891-18f03e61729a",
   "metadata": {},
   "outputs": [
    {
     "data": {
      "text/plain": [
       "{'2022.zip': 'https://download.inep.gov.br/dados_abertos/microdados_censo_escolar_2022.zip',\n",
       " '2021.zip': 'https://download.inep.gov.br/dados_abertos/microdados_censo_escolar_2021.zip',\n",
       " '2020.zip': 'https://download.inep.gov.br/dados_abertos/microdados_censo_escolar_2020.zip',\n",
       " '2019.zip': 'https://download.inep.gov.br/dados_abertos/microdados_censo_escolar_2019.zip',\n",
       " '2018.zip': 'https://download.inep.gov.br/dados_abertos/microdados_censo_escolar_2018.zip',\n",
       " '2017.zip': 'https://download.inep.gov.br/dados_abertos/microdados_censo_escolar_2017.zip',\n",
       " '2016.zip': 'https://download.inep.gov.br/dados_abertos/microdados_censo_escolar_2016.zip',\n",
       " '2015.zip': 'https://download.inep.gov.br/dados_abertos/microdados_censo_escolar_2015.zip',\n",
       " '2014.zip': 'https://download.inep.gov.br/dados_abertos/microdados_censo_escolar_2014.zip',\n",
       " '2013.zip': 'https://download.inep.gov.br/dados_abertos/microdados_censo_escolar_2013.zip',\n",
       " '2012.zip': 'https://download.inep.gov.br/dados_abertos/microdados_censo_escolar_2012.zip',\n",
       " '2011.zip': 'https://download.inep.gov.br/dados_abertos/microdados_censo_escolar_2011.zip',\n",
       " '2010.zip': 'https://download.inep.gov.br/dados_abertos/microdados_censo_escolar_2010.zip',\n",
       " '2009.zip': 'https://download.inep.gov.br/dados_abertos/microdados_censo_escolar_2009.zip',\n",
       " '2008.zip': 'https://download.inep.gov.br/dados_abertos/microdados_censo_escolar_2008.zip',\n",
       " '2007.zip': 'https://download.inep.gov.br/dados_abertos/microdados_censo_escolar_2007.zip',\n",
       " '2006.zip': 'https://download.inep.gov.br/dados_abertos/microdados_censo_escolar_2006.zip',\n",
       " '2005.zip': 'https://download.inep.gov.br/dados_abertos/microdados_censo_escolar_2005.zip',\n",
       " '2004.zip': 'https://download.inep.gov.br/dados_abertos/microdados_censo_escolar_2004.zip',\n",
       " '2003.zip': 'https://download.inep.gov.br/dados_abertos/microdados_censo_escolar_2003.zip',\n",
       " '2002.zip': 'https://download.inep.gov.br/dados_abertos/microdados_censo_escolar_2002.zip',\n",
       " '2001.zip': 'https://download.inep.gov.br/dados_abertos/microdados_censo_escolar_2001.zip',\n",
       " '2000.zip': 'https://download.inep.gov.br/dados_abertos/microdados_censo_escolar_2000.zip',\n",
       " '1999.zip': 'https://download.inep.gov.br/dados_abertos/microdados_censo_escolar_1999.zip',\n",
       " '1998.zip': 'https://download.inep.gov.br/dados_abertos/microdados_censo_escolar_1998.zip',\n",
       " '1997.zip': 'https://download.inep.gov.br/dados_abertos/microdados_censo_escolar_1997.zip',\n",
       " '1996.zip': 'https://download.inep.gov.br/dados_abertos/microdados_censo_escolar_1996.zip'}"
      ]
     },
     "execution_count": 21,
     "metadata": {},
     "output_type": "execute_result"
    }
   ],
   "source": [
    "inep_etl.dicionario_para_baixar()"
   ]
  },
  {
   "cell_type": "code",
   "execution_count": 24,
   "id": "dcded097-133b-46b3-8ca3-1dc960c5975e",
   "metadata": {},
   "outputs": [
    {
     "name": "stdout",
     "output_type": "stream",
     "text": [
      "2022.zip\n",
      "2021.zip\n",
      "2020.zip\n",
      "2019.zip\n",
      "2018.zip\n",
      "2017.zip\n",
      "2016.zip\n",
      "2015.zip\n",
      "2014.zip\n",
      "2013.zip\n",
      "2012.zip\n",
      "2011.zip\n",
      "2010.zip\n",
      "2009.zip\n",
      "2008.zip\n",
      "2007.zip\n",
      "2006.zip\n",
      "2005.zip\n",
      "2004.zip\n",
      "2003.zip\n",
      "2002.zip\n",
      "2001.zip\n",
      "2000.zip\n",
      "1999.zip\n",
      "1998.zip\n",
      "1997.zip\n",
      "1996.zip\n"
     ]
    }
   ],
   "source": [
    "inep_etl.download_conteudo()"
   ]
  },
  {
   "cell_type": "code",
   "execution_count": null,
   "id": "395d7806-ee65-4c8d-89ac-400e44833865",
   "metadata": {},
   "outputs": [],
   "source": []
  }
 ],
 "metadata": {
  "kernelspec": {
   "display_name": "Python 3 (ipykernel)",
   "language": "python",
   "name": "python3"
  },
  "language_info": {
   "codemirror_mode": {
    "name": "ipython",
    "version": 3
   },
   "file_extension": ".py",
   "mimetype": "text/x-python",
   "name": "python",
   "nbconvert_exporter": "python",
   "pygments_lexer": "ipython3",
   "version": "3.10.9"
  },
  "vscode": {
   "interpreter": {
    "hash": "65ca81e8fad3f8c216ee90a03a98665577a03fed3fcbaf65c538828cec37a742"
   }
  }
 },
 "nbformat": 4,
 "nbformat_minor": 5
}
