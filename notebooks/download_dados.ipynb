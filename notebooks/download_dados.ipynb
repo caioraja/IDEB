{
 "cells": [
  {
   "cell_type": "code",
   "execution_count": 1,
   "id": "915b10a4",
   "metadata": {},
   "outputs": [],
   "source": [
    "import urllib\n",
    "import requests\n",
    "from pathlib import Path\n",
    "from bs4 import BeautifulSoup\n",
    "import os"
   ]
  },
  {
   "cell_type": "code",
   "execution_count": 2,
   "id": "88cdf478",
   "metadata": {},
   "outputs": [],
   "source": [
    "def obtem_dados_censo(url: str) -> Path:\n",
    "    \"\"\"\n",
    "    Realiza o download dos dados do censo escolar\n",
    "\n",
    "    :param url: endereço do site do inep com os dados do censo\n",
    "    :return: caminho para os dados de saída\n",
    "    \"\"\"\n",
    "    html = urllib.request.urlopen(url).read()\n",
    "    soup = BeautifulSoup(html, features=\"lxml\")\n",
    "\n",
    "    links = {\n",
    "        tag[\"href\"].split(\"_\")[-1]: tag[\"href\"]\n",
    "        for tag in soup.find_all(\"a\", {\"class\": \"external-link\"})\n",
    "    }\n",
    "\n",
    "    caminho_saida = Path(\"../dados/censo_escolar\")\n",
    "    caminho_saida.mkdir(parents=True, exist_ok=True)\n",
    "\n",
    "    for dado in links:\n",
    "        r = requests.get(links[dado], stream=True)\n",
    "        with open(caminho_saida / dado, \"wb\") as arq:\n",
    "            arq.write(r.content)\n"
   ]
  },
  {
   "cell_type": "code",
   "execution_count": 3,
   "id": "b25cdfbf",
   "metadata": {},
   "outputs": [],
   "source": [
    "os.chdir(\"..\")"
   ]
  },
  {
   "cell_type": "code",
   "execution_count": 4,
   "id": "e2441926",
   "metadata": {},
   "outputs": [],
   "source": [
    "%load_ext autoreload\n",
    "%autoreload 2\n",
    "import src.aquisicao.inep.base_inep as etl_base_inep"
   ]
  },
  {
   "cell_type": "code",
   "execution_count": 5,
   "id": "848d998a",
   "metadata": {},
   "outputs": [],
   "source": [
    "inep_etl = etl_base_inep.BaseINEPETL(\"dados/censo_escolar\", \"saida/aquisicao\", \"censo-escolar\")"
   ]
  },
  {
   "cell_type": "code",
   "execution_count": 6,
   "id": "d8f1bd3d-2d82-4d11-8fbc-b5d4e24a5571",
   "metadata": {},
   "outputs": [
    {
     "data": {
      "text/plain": [
       "{'2022.zip': 'https://download.inep.gov.br/dados_abertos/microdados_censo_escolar_2022.zip',\n",
       " '2021.zip': 'https://download.inep.gov.br/dados_abertos/microdados_censo_escolar_2021.zip',\n",
       " '2020.zip': 'https://download.inep.gov.br/dados_abertos/microdados_censo_escolar_2020.zip',\n",
       " '2019.zip': 'https://download.inep.gov.br/dados_abertos/microdados_censo_escolar_2019.zip',\n",
       " '2018.zip': 'https://download.inep.gov.br/dados_abertos/microdados_censo_escolar_2018.zip',\n",
       " '2017.zip': 'https://download.inep.gov.br/dados_abertos/microdados_censo_escolar_2017.zip',\n",
       " '2016.zip': 'https://download.inep.gov.br/dados_abertos/microdados_censo_escolar_2016.zip',\n",
       " '2015.zip': 'https://download.inep.gov.br/dados_abertos/microdados_censo_escolar_2015.zip',\n",
       " '2014.zip': 'https://download.inep.gov.br/dados_abertos/microdados_censo_escolar_2014.zip',\n",
       " '2013.zip': 'https://download.inep.gov.br/dados_abertos/microdados_censo_escolar_2013.zip',\n",
       " '2012.zip': 'https://download.inep.gov.br/dados_abertos/microdados_censo_escolar_2012.zip',\n",
       " '2011.zip': 'https://download.inep.gov.br/dados_abertos/microdados_censo_escolar_2011.zip',\n",
       " '2010.zip': 'https://download.inep.gov.br/dados_abertos/microdados_censo_escolar_2010.zip',\n",
       " '2009.zip': 'https://download.inep.gov.br/dados_abertos/microdados_censo_escolar_2009.zip',\n",
       " '2008.zip': 'https://download.inep.gov.br/dados_abertos/microdados_censo_escolar_2008.zip',\n",
       " '2007.zip': 'https://download.inep.gov.br/dados_abertos/microdados_censo_escolar_2007.zip',\n",
       " '2006.zip': 'https://download.inep.gov.br/dados_abertos/microdados_censo_escolar_2006.zip',\n",
       " '2005.zip': 'https://download.inep.gov.br/dados_abertos/microdados_censo_escolar_2005.zip',\n",
       " '2004.zip': 'https://download.inep.gov.br/dados_abertos/microdados_censo_escolar_2004.zip',\n",
       " '2003.zip': 'https://download.inep.gov.br/dados_abertos/microdados_censo_escolar_2003.zip',\n",
       " '2002.zip': 'https://download.inep.gov.br/dados_abertos/microdados_censo_escolar_2002.zip',\n",
       " '2001.zip': 'https://download.inep.gov.br/dados_abertos/microdados_censo_escolar_2001.zip',\n",
       " '2000.zip': 'https://download.inep.gov.br/dados_abertos/microdados_censo_escolar_2000.zip',\n",
       " '1999.zip': 'https://download.inep.gov.br/dados_abertos/microdados_censo_escolar_1999.zip',\n",
       " '1998.zip': 'https://download.inep.gov.br/dados_abertos/microdados_censo_escolar_1998.zip',\n",
       " '1997.zip': 'https://download.inep.gov.br/dados_abertos/microdados_censo_escolar_1997.zip',\n",
       " '1996.zip': 'https://download.inep.gov.br/dados_abertos/microdados_censo_escolar_1996.zip',\n",
       " '1995.zip': 'https://download.inep.gov.br/dados_abertos/microdados_censo_escolar_1995.zip'}"
      ]
     },
     "execution_count": 6,
     "metadata": {},
     "output_type": "execute_result"
    }
   ],
   "source": [
    "inep_etl.le_pagina_inep()"
   ]
  },
  {
   "cell_type": "code",
   "execution_count": 7,
   "id": "d94a25d7-d9a3-46ac-9891-18f03e61729a",
   "metadata": {},
   "outputs": [
    {
     "data": {
      "text/plain": [
       "{}"
      ]
     },
     "execution_count": 7,
     "metadata": {},
     "output_type": "execute_result"
    }
   ],
   "source": [
    "inep_etl.dicionario_para_baixar()"
   ]
  },
  {
   "cell_type": "code",
   "execution_count": 8,
   "id": "dcded097-133b-46b3-8ca3-1dc960c5975e",
   "metadata": {},
   "outputs": [],
   "source": [
    "inep_etl.download_conteudo()"
   ]
  },
  {
   "cell_type": "code",
   "execution_count": 9,
   "id": "395d7806-ee65-4c8d-89ac-400e44833865",
   "metadata": {},
   "outputs": [
    {
     "data": {
      "text/plain": [
       "['.git',\n",
       " '.github',\n",
       " '.gitignore',\n",
       " '.ipynb_checkpoints',\n",
       " 'dados',\n",
       " 'LICENSE',\n",
       " 'notebooks',\n",
       " 'README.md',\n",
       " 'requirements.txt',\n",
       " 'run.py',\n",
       " 'saida',\n",
       " 'src']"
      ]
     },
     "execution_count": 9,
     "metadata": {},
     "output_type": "execute_result"
    }
   ],
   "source": [
    "os.listdir()"
   ]
  },
  {
   "cell_type": "code",
   "execution_count": 10,
   "id": "b3e2f1b1-d6ee-4835-a04a-b7d028392b9c",
   "metadata": {},
   "outputs": [],
   "source": [
    "import zipfile\n",
    "import pandas as pd"
   ]
  },
  {
   "cell_type": "code",
   "execution_count": 11,
   "id": "0352ad91-1024-4761-8644-00a512e07090",
   "metadata": {},
   "outputs": [
    {
     "name": "stderr",
     "output_type": "stream",
     "text": [
      "C:\\Users\\caior\\AppData\\Local\\Temp\\ipykernel_1748\\2113719615.py:1: DtypeWarning: Columns (27) have mixed types. Specify dtype option on import or set low_memory=False.\n",
      "  dados = pd.read_csv(\"dados/censo_escolar/microdados_ed_basica_2022.csv\", encoding=\"latin-1\", sep=\";\")\n"
     ]
    }
   ],
   "source": [
    "dados = pd.read_csv(\"dados/censo_escolar/microdados_ed_basica_2022.csv\", encoding=\"latin-1\", sep=\";\")"
   ]
  },
  {
   "cell_type": "code",
   "execution_count": 12,
   "id": "bfdb7b37-5f25-4da2-b3d7-3f65bf2b8ebe",
   "metadata": {},
   "outputs": [
    {
     "data": {
      "text/html": [
       "<div>\n",
       "<style scoped>\n",
       "    .dataframe tbody tr th:only-of-type {\n",
       "        vertical-align: middle;\n",
       "    }\n",
       "\n",
       "    .dataframe tbody tr th {\n",
       "        vertical-align: top;\n",
       "    }\n",
       "\n",
       "    .dataframe thead th {\n",
       "        text-align: right;\n",
       "    }\n",
       "</style>\n",
       "<table border=\"1\" class=\"dataframe\">\n",
       "  <thead>\n",
       "    <tr style=\"text-align: right;\">\n",
       "      <th></th>\n",
       "      <th>NU_ANO_CENSO</th>\n",
       "      <th>NO_REGIAO</th>\n",
       "      <th>CO_REGIAO</th>\n",
       "      <th>NO_UF</th>\n",
       "      <th>SG_UF</th>\n",
       "      <th>CO_UF</th>\n",
       "      <th>NO_MUNICIPIO</th>\n",
       "      <th>CO_MUNICIPIO</th>\n",
       "      <th>NO_MESORREGIAO</th>\n",
       "      <th>CO_MESORREGIAO</th>\n",
       "      <th>...</th>\n",
       "      <th>QT_TUR_FUND_AF</th>\n",
       "      <th>QT_TUR_MED</th>\n",
       "      <th>QT_TUR_PROF</th>\n",
       "      <th>QT_TUR_PROF_TEC</th>\n",
       "      <th>QT_TUR_EJA</th>\n",
       "      <th>QT_TUR_EJA_FUND</th>\n",
       "      <th>QT_TUR_EJA_MED</th>\n",
       "      <th>QT_TUR_ESP</th>\n",
       "      <th>QT_TUR_ESP_CC</th>\n",
       "      <th>QT_TUR_ESP_CE</th>\n",
       "    </tr>\n",
       "  </thead>\n",
       "  <tbody>\n",
       "    <tr>\n",
       "      <th>0</th>\n",
       "      <td>2022</td>\n",
       "      <td>Norte</td>\n",
       "      <td>1</td>\n",
       "      <td>Rondônia</td>\n",
       "      <td>RO</td>\n",
       "      <td>11</td>\n",
       "      <td>Alta Floresta D'Oeste</td>\n",
       "      <td>1100015</td>\n",
       "      <td>Leste Rondoniense</td>\n",
       "      <td>2</td>\n",
       "      <td>...</td>\n",
       "      <td>0.0</td>\n",
       "      <td>0.0</td>\n",
       "      <td>0.0</td>\n",
       "      <td>0.0</td>\n",
       "      <td>0.0</td>\n",
       "      <td>0.0</td>\n",
       "      <td>0.0</td>\n",
       "      <td>0.0</td>\n",
       "      <td>0.0</td>\n",
       "      <td>0.0</td>\n",
       "    </tr>\n",
       "    <tr>\n",
       "      <th>1</th>\n",
       "      <td>2022</td>\n",
       "      <td>Norte</td>\n",
       "      <td>1</td>\n",
       "      <td>Rondônia</td>\n",
       "      <td>RO</td>\n",
       "      <td>11</td>\n",
       "      <td>Alta Floresta D'Oeste</td>\n",
       "      <td>1100015</td>\n",
       "      <td>Leste Rondoniense</td>\n",
       "      <td>2</td>\n",
       "      <td>...</td>\n",
       "      <td>0.0</td>\n",
       "      <td>0.0</td>\n",
       "      <td>0.0</td>\n",
       "      <td>0.0</td>\n",
       "      <td>10.0</td>\n",
       "      <td>6.0</td>\n",
       "      <td>4.0</td>\n",
       "      <td>3.0</td>\n",
       "      <td>3.0</td>\n",
       "      <td>0.0</td>\n",
       "    </tr>\n",
       "    <tr>\n",
       "      <th>2</th>\n",
       "      <td>2022</td>\n",
       "      <td>Norte</td>\n",
       "      <td>1</td>\n",
       "      <td>Rondônia</td>\n",
       "      <td>RO</td>\n",
       "      <td>11</td>\n",
       "      <td>Alta Floresta D'Oeste</td>\n",
       "      <td>1100015</td>\n",
       "      <td>Leste Rondoniense</td>\n",
       "      <td>2</td>\n",
       "      <td>...</td>\n",
       "      <td>1.0</td>\n",
       "      <td>0.0</td>\n",
       "      <td>0.0</td>\n",
       "      <td>0.0</td>\n",
       "      <td>0.0</td>\n",
       "      <td>0.0</td>\n",
       "      <td>0.0</td>\n",
       "      <td>0.0</td>\n",
       "      <td>0.0</td>\n",
       "      <td>0.0</td>\n",
       "    </tr>\n",
       "    <tr>\n",
       "      <th>3</th>\n",
       "      <td>2022</td>\n",
       "      <td>Norte</td>\n",
       "      <td>1</td>\n",
       "      <td>Rondônia</td>\n",
       "      <td>RO</td>\n",
       "      <td>11</td>\n",
       "      <td>Alta Floresta D'Oeste</td>\n",
       "      <td>1100015</td>\n",
       "      <td>Leste Rondoniense</td>\n",
       "      <td>2</td>\n",
       "      <td>...</td>\n",
       "      <td>6.0</td>\n",
       "      <td>0.0</td>\n",
       "      <td>0.0</td>\n",
       "      <td>0.0</td>\n",
       "      <td>0.0</td>\n",
       "      <td>0.0</td>\n",
       "      <td>0.0</td>\n",
       "      <td>1.0</td>\n",
       "      <td>1.0</td>\n",
       "      <td>0.0</td>\n",
       "    </tr>\n",
       "    <tr>\n",
       "      <th>4</th>\n",
       "      <td>2022</td>\n",
       "      <td>Norte</td>\n",
       "      <td>1</td>\n",
       "      <td>Rondônia</td>\n",
       "      <td>RO</td>\n",
       "      <td>11</td>\n",
       "      <td>Alta Floresta D'Oeste</td>\n",
       "      <td>1100015</td>\n",
       "      <td>Leste Rondoniense</td>\n",
       "      <td>2</td>\n",
       "      <td>...</td>\n",
       "      <td>5.0</td>\n",
       "      <td>0.0</td>\n",
       "      <td>0.0</td>\n",
       "      <td>0.0</td>\n",
       "      <td>0.0</td>\n",
       "      <td>0.0</td>\n",
       "      <td>0.0</td>\n",
       "      <td>3.0</td>\n",
       "      <td>3.0</td>\n",
       "      <td>0.0</td>\n",
       "    </tr>\n",
       "  </tbody>\n",
       "</table>\n",
       "<p>5 rows × 385 columns</p>\n",
       "</div>"
      ],
      "text/plain": [
       "   NU_ANO_CENSO NO_REGIAO  CO_REGIAO     NO_UF SG_UF  CO_UF  \\\n",
       "0          2022     Norte          1  Rondônia    RO     11   \n",
       "1          2022     Norte          1  Rondônia    RO     11   \n",
       "2          2022     Norte          1  Rondônia    RO     11   \n",
       "3          2022     Norte          1  Rondônia    RO     11   \n",
       "4          2022     Norte          1  Rondônia    RO     11   \n",
       "\n",
       "            NO_MUNICIPIO  CO_MUNICIPIO     NO_MESORREGIAO  CO_MESORREGIAO  \\\n",
       "0  Alta Floresta D'Oeste       1100015  Leste Rondoniense               2   \n",
       "1  Alta Floresta D'Oeste       1100015  Leste Rondoniense               2   \n",
       "2  Alta Floresta D'Oeste       1100015  Leste Rondoniense               2   \n",
       "3  Alta Floresta D'Oeste       1100015  Leste Rondoniense               2   \n",
       "4  Alta Floresta D'Oeste       1100015  Leste Rondoniense               2   \n",
       "\n",
       "   ... QT_TUR_FUND_AF  QT_TUR_MED  QT_TUR_PROF QT_TUR_PROF_TEC  QT_TUR_EJA  \\\n",
       "0  ...            0.0         0.0          0.0             0.0         0.0   \n",
       "1  ...            0.0         0.0          0.0             0.0        10.0   \n",
       "2  ...            1.0         0.0          0.0             0.0         0.0   \n",
       "3  ...            6.0         0.0          0.0             0.0         0.0   \n",
       "4  ...            5.0         0.0          0.0             0.0         0.0   \n",
       "\n",
       "   QT_TUR_EJA_FUND  QT_TUR_EJA_MED  QT_TUR_ESP  QT_TUR_ESP_CC QT_TUR_ESP_CE  \n",
       "0              0.0             0.0         0.0            0.0           0.0  \n",
       "1              6.0             4.0         3.0            3.0           0.0  \n",
       "2              0.0             0.0         0.0            0.0           0.0  \n",
       "3              0.0             0.0         1.0            1.0           0.0  \n",
       "4              0.0             0.0         3.0            3.0           0.0  \n",
       "\n",
       "[5 rows x 385 columns]"
      ]
     },
     "execution_count": 12,
     "metadata": {},
     "output_type": "execute_result"
    }
   ],
   "source": [
    "dados.head()"
   ]
  },
  {
   "cell_type": "code",
   "execution_count": 13,
   "id": "416e6aa1-fc39-4d99-9864-18121096a8ff",
   "metadata": {},
   "outputs": [
    {
     "name": "stdout",
     "output_type": "stream",
     "text": [
      "<class 'pandas.core.frame.DataFrame'>\n",
      "RangeIndex: 224649 entries, 0 to 224648\n",
      "Columns: 385 entries, NU_ANO_CENSO to QT_TUR_ESP_CE\n",
      "dtypes: float64(358), int64(11), object(16)\n",
      "memory usage: 659.9+ MB\n"
     ]
    }
   ],
   "source": [
    "dados.info(memory_usage=True)"
   ]
  },
  {
   "cell_type": "code",
   "execution_count": 14,
   "id": "be01c2d4-3431-46a2-b250-a96b4ed293f3",
   "metadata": {},
   "outputs": [],
   "source": [
    "arq_zip = zipfile.ZipFile(\"dados/censo_escolar/2022.zip\")"
   ]
  },
  {
   "cell_type": "code",
   "execution_count": 15,
   "id": "1964001f-97e0-42d3-9c80-2492dd1d3b12",
   "metadata": {},
   "outputs": [
    {
     "data": {
      "text/plain": [
       "['Microdados do Censo Escolar da Educaç╞o Básica 2022/',\n",
       " 'Microdados do Censo Escolar da Educaç╞o Básica 2022/Anexos/',\n",
       " 'Microdados do Censo Escolar da Educaç╞o Básica 2022/Anexos/ANEXO I - Dicionário de Dados/',\n",
       " 'Microdados do Censo Escolar da Educaç╞o Básica 2022/Anexos/ANEXO I - Dicionário de Dados/dicionário_dados_educaç╞o_básica.xlsx',\n",
       " 'Microdados do Censo Escolar da Educaç╞o Básica 2022/Anexos/ANEXO I - Dicionário de Dados/~$Dicionário de Dados da Educaç╞o Básica.xlsx',\n",
       " 'Microdados do Censo Escolar da Educaç╞o Básica 2022/Anexos/ANEXO I - Dicionário de Dados/~$dicionário_dados_educaç╞o_básica.xlsx',\n",
       " 'Microdados do Censo Escolar da Educaç╞o Básica 2022/Anexos/ANEXO II -  Questionários do Censo da Educaç╞o Basica/',\n",
       " 'Microdados do Censo Escolar da Educaç╞o Básica 2022/Anexos/ANEXO II -  Questionários do Censo da Educaç╞o Basica/Aluno.pdf',\n",
       " 'Microdados do Censo Escolar da Educaç╞o Básica 2022/Anexos/ANEXO II -  Questionários do Censo da Educaç╞o Basica/Escola.pdf',\n",
       " 'Microdados do Censo Escolar da Educaç╞o Básica 2022/Anexos/ANEXO II -  Questionários do Censo da Educaç╞o Basica/Gestor Escolar.pdf',\n",
       " 'Microdados do Censo Escolar da Educaç╞o Básica 2022/Anexos/ANEXO II -  Questionários do Censo da Educaç╞o Basica/Profissional Escolar.pdf',\n",
       " 'Microdados do Censo Escolar da Educaç╞o Básica 2022/Anexos/ANEXO II -  Questionários do Censo da Educaç╞o Basica/Turma.pdf',\n",
       " 'Microdados do Censo Escolar da Educaç╞o Básica 2022/dados/',\n",
       " 'Microdados do Censo Escolar da Educaç╞o Básica 2022/dados/md5_microdados_ed_basica_2022.txt',\n",
       " 'Microdados do Censo Escolar da Educaç╞o Básica 2022/dados/microdados_ed_basica_2022.csv',\n",
       " 'Microdados do Censo Escolar da Educaç╞o Básica 2022/leia-me/',\n",
       " 'Microdados do Censo Escolar da Educaç╞o Básica 2022/leia-me/Leia-me.pdf']"
      ]
     },
     "execution_count": 15,
     "metadata": {},
     "output_type": "execute_result"
    }
   ],
   "source": [
    "arq_zip.namelist()"
   ]
  },
  {
   "cell_type": "code",
   "execution_count": 16,
   "id": "914c0c53-4c32-47a7-861f-e9807e3c168a",
   "metadata": {},
   "outputs": [],
   "source": [
    "buffer = arq_zip.open(\"Microdados do Censo Escolar da Educaç╞o Básica 2022/dados/microdados_ed_basica_2022.csv\")"
   ]
  },
  {
   "cell_type": "code",
   "execution_count": 17,
   "id": "26864eff-eac7-4fab-94a3-c5f3ae00bbd0",
   "metadata": {},
   "outputs": [
    {
     "data": {
      "text/plain": [
       "<zipfile.ZipExtFile name='Microdados do Censo Escolar da Educaç╞o Básica 2022/dados/microdados_ed_basica_2022.csv' mode='r' compress_type=deflate>"
      ]
     },
     "execution_count": 17,
     "metadata": {},
     "output_type": "execute_result"
    }
   ],
   "source": [
    "buffer"
   ]
  },
  {
   "cell_type": "code",
   "execution_count": 18,
   "id": "5c4aeae0-f006-4bb0-b053-8baf0a36ad75",
   "metadata": {},
   "outputs": [
    {
     "name": "stderr",
     "output_type": "stream",
     "text": [
      "C:\\Users\\caior\\AppData\\Local\\Temp\\ipykernel_1748\\882065344.py:1: DtypeWarning: Columns (27) have mixed types. Specify dtype option on import or set low_memory=False.\n",
      "  dados = pd.read_csv(buffer, encoding=\"latin-1\", sep=\";\")\n"
     ]
    }
   ],
   "source": [
    "dados = pd.read_csv(buffer, encoding=\"latin-1\", sep=\";\")"
   ]
  },
  {
   "cell_type": "code",
   "execution_count": 19,
   "id": "b9b83c4e-b2c0-4a12-8cd3-7867453ad86e",
   "metadata": {},
   "outputs": [
    {
     "data": {
      "text/html": [
       "<div>\n",
       "<style scoped>\n",
       "    .dataframe tbody tr th:only-of-type {\n",
       "        vertical-align: middle;\n",
       "    }\n",
       "\n",
       "    .dataframe tbody tr th {\n",
       "        vertical-align: top;\n",
       "    }\n",
       "\n",
       "    .dataframe thead th {\n",
       "        text-align: right;\n",
       "    }\n",
       "</style>\n",
       "<table border=\"1\" class=\"dataframe\">\n",
       "  <thead>\n",
       "    <tr style=\"text-align: right;\">\n",
       "      <th></th>\n",
       "      <th>NU_ANO_CENSO</th>\n",
       "      <th>NO_REGIAO</th>\n",
       "      <th>CO_REGIAO</th>\n",
       "      <th>NO_UF</th>\n",
       "      <th>SG_UF</th>\n",
       "      <th>CO_UF</th>\n",
       "      <th>NO_MUNICIPIO</th>\n",
       "      <th>CO_MUNICIPIO</th>\n",
       "      <th>NO_MESORREGIAO</th>\n",
       "      <th>CO_MESORREGIAO</th>\n",
       "      <th>...</th>\n",
       "      <th>QT_TUR_FUND_AF</th>\n",
       "      <th>QT_TUR_MED</th>\n",
       "      <th>QT_TUR_PROF</th>\n",
       "      <th>QT_TUR_PROF_TEC</th>\n",
       "      <th>QT_TUR_EJA</th>\n",
       "      <th>QT_TUR_EJA_FUND</th>\n",
       "      <th>QT_TUR_EJA_MED</th>\n",
       "      <th>QT_TUR_ESP</th>\n",
       "      <th>QT_TUR_ESP_CC</th>\n",
       "      <th>QT_TUR_ESP_CE</th>\n",
       "    </tr>\n",
       "  </thead>\n",
       "  <tbody>\n",
       "    <tr>\n",
       "      <th>0</th>\n",
       "      <td>2022</td>\n",
       "      <td>Norte</td>\n",
       "      <td>1</td>\n",
       "      <td>Rondônia</td>\n",
       "      <td>RO</td>\n",
       "      <td>11</td>\n",
       "      <td>Alta Floresta D'Oeste</td>\n",
       "      <td>1100015</td>\n",
       "      <td>Leste Rondoniense</td>\n",
       "      <td>2</td>\n",
       "      <td>...</td>\n",
       "      <td>0.0</td>\n",
       "      <td>0.0</td>\n",
       "      <td>0.0</td>\n",
       "      <td>0.0</td>\n",
       "      <td>0.0</td>\n",
       "      <td>0.0</td>\n",
       "      <td>0.0</td>\n",
       "      <td>0.0</td>\n",
       "      <td>0.0</td>\n",
       "      <td>0.0</td>\n",
       "    </tr>\n",
       "    <tr>\n",
       "      <th>1</th>\n",
       "      <td>2022</td>\n",
       "      <td>Norte</td>\n",
       "      <td>1</td>\n",
       "      <td>Rondônia</td>\n",
       "      <td>RO</td>\n",
       "      <td>11</td>\n",
       "      <td>Alta Floresta D'Oeste</td>\n",
       "      <td>1100015</td>\n",
       "      <td>Leste Rondoniense</td>\n",
       "      <td>2</td>\n",
       "      <td>...</td>\n",
       "      <td>0.0</td>\n",
       "      <td>0.0</td>\n",
       "      <td>0.0</td>\n",
       "      <td>0.0</td>\n",
       "      <td>10.0</td>\n",
       "      <td>6.0</td>\n",
       "      <td>4.0</td>\n",
       "      <td>3.0</td>\n",
       "      <td>3.0</td>\n",
       "      <td>0.0</td>\n",
       "    </tr>\n",
       "    <tr>\n",
       "      <th>2</th>\n",
       "      <td>2022</td>\n",
       "      <td>Norte</td>\n",
       "      <td>1</td>\n",
       "      <td>Rondônia</td>\n",
       "      <td>RO</td>\n",
       "      <td>11</td>\n",
       "      <td>Alta Floresta D'Oeste</td>\n",
       "      <td>1100015</td>\n",
       "      <td>Leste Rondoniense</td>\n",
       "      <td>2</td>\n",
       "      <td>...</td>\n",
       "      <td>1.0</td>\n",
       "      <td>0.0</td>\n",
       "      <td>0.0</td>\n",
       "      <td>0.0</td>\n",
       "      <td>0.0</td>\n",
       "      <td>0.0</td>\n",
       "      <td>0.0</td>\n",
       "      <td>0.0</td>\n",
       "      <td>0.0</td>\n",
       "      <td>0.0</td>\n",
       "    </tr>\n",
       "    <tr>\n",
       "      <th>3</th>\n",
       "      <td>2022</td>\n",
       "      <td>Norte</td>\n",
       "      <td>1</td>\n",
       "      <td>Rondônia</td>\n",
       "      <td>RO</td>\n",
       "      <td>11</td>\n",
       "      <td>Alta Floresta D'Oeste</td>\n",
       "      <td>1100015</td>\n",
       "      <td>Leste Rondoniense</td>\n",
       "      <td>2</td>\n",
       "      <td>...</td>\n",
       "      <td>6.0</td>\n",
       "      <td>0.0</td>\n",
       "      <td>0.0</td>\n",
       "      <td>0.0</td>\n",
       "      <td>0.0</td>\n",
       "      <td>0.0</td>\n",
       "      <td>0.0</td>\n",
       "      <td>1.0</td>\n",
       "      <td>1.0</td>\n",
       "      <td>0.0</td>\n",
       "    </tr>\n",
       "    <tr>\n",
       "      <th>4</th>\n",
       "      <td>2022</td>\n",
       "      <td>Norte</td>\n",
       "      <td>1</td>\n",
       "      <td>Rondônia</td>\n",
       "      <td>RO</td>\n",
       "      <td>11</td>\n",
       "      <td>Alta Floresta D'Oeste</td>\n",
       "      <td>1100015</td>\n",
       "      <td>Leste Rondoniense</td>\n",
       "      <td>2</td>\n",
       "      <td>...</td>\n",
       "      <td>5.0</td>\n",
       "      <td>0.0</td>\n",
       "      <td>0.0</td>\n",
       "      <td>0.0</td>\n",
       "      <td>0.0</td>\n",
       "      <td>0.0</td>\n",
       "      <td>0.0</td>\n",
       "      <td>3.0</td>\n",
       "      <td>3.0</td>\n",
       "      <td>0.0</td>\n",
       "    </tr>\n",
       "  </tbody>\n",
       "</table>\n",
       "<p>5 rows × 385 columns</p>\n",
       "</div>"
      ],
      "text/plain": [
       "   NU_ANO_CENSO NO_REGIAO  CO_REGIAO     NO_UF SG_UF  CO_UF  \\\n",
       "0          2022     Norte          1  Rondônia    RO     11   \n",
       "1          2022     Norte          1  Rondônia    RO     11   \n",
       "2          2022     Norte          1  Rondônia    RO     11   \n",
       "3          2022     Norte          1  Rondônia    RO     11   \n",
       "4          2022     Norte          1  Rondônia    RO     11   \n",
       "\n",
       "            NO_MUNICIPIO  CO_MUNICIPIO     NO_MESORREGIAO  CO_MESORREGIAO  \\\n",
       "0  Alta Floresta D'Oeste       1100015  Leste Rondoniense               2   \n",
       "1  Alta Floresta D'Oeste       1100015  Leste Rondoniense               2   \n",
       "2  Alta Floresta D'Oeste       1100015  Leste Rondoniense               2   \n",
       "3  Alta Floresta D'Oeste       1100015  Leste Rondoniense               2   \n",
       "4  Alta Floresta D'Oeste       1100015  Leste Rondoniense               2   \n",
       "\n",
       "   ... QT_TUR_FUND_AF  QT_TUR_MED  QT_TUR_PROF QT_TUR_PROF_TEC  QT_TUR_EJA  \\\n",
       "0  ...            0.0         0.0          0.0             0.0         0.0   \n",
       "1  ...            0.0         0.0          0.0             0.0        10.0   \n",
       "2  ...            1.0         0.0          0.0             0.0         0.0   \n",
       "3  ...            6.0         0.0          0.0             0.0         0.0   \n",
       "4  ...            5.0         0.0          0.0             0.0         0.0   \n",
       "\n",
       "   QT_TUR_EJA_FUND  QT_TUR_EJA_MED  QT_TUR_ESP  QT_TUR_ESP_CC QT_TUR_ESP_CE  \n",
       "0              0.0             0.0         0.0            0.0           0.0  \n",
       "1              6.0             4.0         3.0            3.0           0.0  \n",
       "2              0.0             0.0         0.0            0.0           0.0  \n",
       "3              0.0             0.0         1.0            1.0           0.0  \n",
       "4              0.0             0.0         3.0            3.0           0.0  \n",
       "\n",
       "[5 rows x 385 columns]"
      ]
     },
     "execution_count": 19,
     "metadata": {},
     "output_type": "execute_result"
    }
   ],
   "source": [
    "dados.head()"
   ]
  },
  {
   "cell_type": "code",
   "execution_count": 22,
   "id": "962a4def-b471-4836-8570-2ff973bc42e1",
   "metadata": {},
   "outputs": [
    {
     "data": {
      "text/plain": [
       "'Microdados do Censo Escolar da Educaç╞o Básica 2022/dados/microdados_ed_basica_2022.csv'"
      ]
     },
     "execution_count": 22,
     "metadata": {},
     "output_type": "execute_result"
    }
   ],
   "source": [
    "[arq for arq in arq_zip.namelist() if \".csv\" in arq][0]"
   ]
  },
  {
   "cell_type": "code",
   "execution_count": null,
   "id": "b4f4feac-6313-4372-b8c4-1ba84ce265ac",
   "metadata": {},
   "outputs": [],
   "source": []
  }
 ],
 "metadata": {
  "kernelspec": {
   "display_name": "Python 3 (ipykernel)",
   "language": "python",
   "name": "python3"
  },
  "language_info": {
   "codemirror_mode": {
    "name": "ipython",
    "version": 3
   },
   "file_extension": ".py",
   "mimetype": "text/x-python",
   "name": "python",
   "nbconvert_exporter": "python",
   "pygments_lexer": "ipython3",
   "version": "3.10.9"
  },
  "vscode": {
   "interpreter": {
    "hash": "65ca81e8fad3f8c216ee90a03a98665577a03fed3fcbaf65c538828cec37a742"
   }
  }
 },
 "nbformat": 4,
 "nbformat_minor": 5
}
